{
 "cells": [
  {
   "cell_type": "code",
   "execution_count": null,
   "id": "e0014ea8",
   "metadata": {},
   "outputs": [],
   "source": [
    "# Cosine Similarity Example #1"
   ]
  },
  {
   "cell_type": "code",
   "execution_count": 1,
   "id": "4f7ce3e9",
   "metadata": {},
   "outputs": [],
   "source": [
    "from math import*"
   ]
  },
  {
   "cell_type": "code",
   "execution_count": 2,
   "id": "0b919517",
   "metadata": {},
   "outputs": [],
   "source": [
    "def square_rooted(x):\n",
    "    return round(sqrt(sum([a*a for a in x])),3)"
   ]
  },
  {
   "cell_type": "code",
   "execution_count": 3,
   "id": "fbc86bfc",
   "metadata": {},
   "outputs": [],
   "source": [
    "def cosine_similarity(x,y):\n",
    "    numerator = sum(a*b for a,b in zip(x,y))\n",
    "    denominator = square_rooted(x)*square_rooted(y)\n",
    "    return round(numerator/float(denominator),3)"
   ]
  },
  {
   "cell_type": "code",
   "execution_count": 5,
   "id": "f0248a7a",
   "metadata": {},
   "outputs": [
    {
     "name": "stdout",
     "output_type": "stream",
     "text": [
      "0.972\n"
     ]
    }
   ],
   "source": [
    "print(cosine_similarity([3, 45, 7, 2], [2, 54, 13, 15]))"
   ]
  },
  {
   "cell_type": "code",
   "execution_count": null,
   "id": "b3b76751",
   "metadata": {},
   "outputs": [],
   "source": [
    "# Cosine Similarity Example #2"
   ]
  },
  {
   "cell_type": "code",
   "execution_count": 6,
   "id": "72e3ba83",
   "metadata": {},
   "outputs": [],
   "source": [
    "from sklearn.metrics.pairwise import cosine_similarity\n",
    "import numpy as np\n",
    "X = np.array([1,2])\n",
    "Y = np.array([2,2])\n",
    "Z = np.array([2,4])"
   ]
  },
  {
   "cell_type": "code",
   "execution_count": 7,
   "id": "53d56d96",
   "metadata": {},
   "outputs": [
    {
     "name": "stdout",
     "output_type": "stream",
     "text": [
      "[[0.9486833 1.       ]]\n"
     ]
    }
   ],
   "source": [
    "# calculate cosine similarity between [X] and [Y,Z]\n",
    "# sending input as arrays would allow for calculating both cosine_sim(X,Y) and cosine_sim (X,Y)\n",
    "cos_sim = cosine_similarity([X], [Y,Z])\n",
    "print(cos_sim)"
   ]
  },
  {
   "cell_type": "code",
   "execution_count": 9,
   "id": "7376b853",
   "metadata": {},
   "outputs": [
    {
     "name": "stdout",
     "output_type": "stream",
     "text": [
      "[[1.        0.9486833 1.       ]\n",
      " [0.9486833 1.        0.9486833]\n",
      " [1.        0.9486833 1.       ]]\n"
     ]
    }
   ],
   "source": [
    "# calculate the entire cosie similarity matrix among X, Y, and Z\n",
    "cos_sim = cosine_similarity([X, Y, Z])\n",
    "print(cos_sim)"
   ]
  },
  {
   "cell_type": "code",
   "execution_count": null,
   "id": "1ef68182",
   "metadata": {},
   "outputs": [],
   "source": [
    "# Cosine Similarity Example #3"
   ]
  },
  {
   "cell_type": "code",
   "execution_count": 10,
   "id": "f111a4f4",
   "metadata": {},
   "outputs": [],
   "source": [
    "from sklearn.metrics.pairwise import cosine_similarity\n",
    "import numpy as np"
   ]
  },
  {
   "cell_type": "code",
   "execution_count": 11,
   "id": "60085bad",
   "metadata": {},
   "outputs": [],
   "source": [
    "array_vec_1 = np.array([[12,41,60,11,21]])\n",
    "array_vec_2 = np.array([[40,11,4,11,14]])"
   ]
  },
  {
   "cell_type": "code",
   "execution_count": 12,
   "id": "cc6389c0",
   "metadata": {},
   "outputs": [
    {
     "name": "stdout",
     "output_type": "stream",
     "text": [
      "[[0.45227058]]\n"
     ]
    }
   ],
   "source": [
    "print(cosine_similarity(array_vec_1, array_vec_2))"
   ]
  }
 ],
 "metadata": {
  "kernelspec": {
   "display_name": "Python 3 (ipykernel)",
   "language": "python",
   "name": "python3"
  },
  "language_info": {
   "codemirror_mode": {
    "name": "ipython",
    "version": 3
   },
   "file_extension": ".py",
   "mimetype": "text/x-python",
   "name": "python",
   "nbconvert_exporter": "python",
   "pygments_lexer": "ipython3",
   "version": "3.10.9"
  }
 },
 "nbformat": 4,
 "nbformat_minor": 5
}
